{
 "cells": [
  {
   "cell_type": "markdown",
   "id": "a17b9298",
   "metadata": {},
   "source": [
    "# Python Coding Essentials"
   ]
  },
  {
   "cell_type": "markdown",
   "source": [
    "### Comments"
   ],
   "metadata": {
    "collapsed": false
   },
   "id": "a26cff107063f7cd"
  },
  {
   "cell_type": "markdown",
   "source": [
    "Before writing any code, let's learn what a \"comment\" is.\n",
    "A comment is a piece of text placed in the code to help others understand it.\n",
    "The computer ignores it.\n",
    "Use # to make the rest of the line a comment"
   ],
   "metadata": {
    "collapsed": false
   },
   "id": "fb44d866bcc452be"
  },
  {
   "cell_type": "code",
   "outputs": [],
   "source": [
    "# Hey what's up?"
   ],
   "metadata": {
    "collapsed": false
   },
   "id": "b8b60e8e812e26bc",
   "execution_count": null
  },
  {
   "cell_type": "markdown",
   "source": [
    "You can also use ''' to make a multiline comment (and use another ''' to indicate that commend has ended)"
   ],
   "metadata": {
    "collapsed": false
   },
   "id": "e357b5aff4446863"
  },
  {
   "cell_type": "code",
   "outputs": [],
   "source": [
    "\"\"\"\n",
    "After all this time?\n",
    "Always\n",
    "\"\"\"\n",
    "print(\"You can't see the comments :)\")"
   ],
   "metadata": {
    "collapsed": false
   },
   "id": "28a7a39f5d8ae718",
   "execution_count": null
  },
  {
   "cell_type": "markdown",
   "source": [
    "### Data types\n",
    "Python has several built-in **data types**. Here are a few key ones:\n",
    "Integers (int): Whole numbers, 0, 5, -1 +32424234...\n",
    "Floats (float): Decimal numbers 3.14, 0.5, -2.718...\n",
    "Boolean (bool): Only two values: True and False (Note: Starts with uppercase)\n",
    "Strings (str): A sequence of characters\n",
    "There are also list, set, tuple, and dict."
   ],
   "metadata": {
    "collapsed": false
   },
   "id": "b11c931be727c16b"
  },
  {
   "cell_type": "markdown",
   "source": [
    "### Assigning and printing values"
   ],
   "metadata": {
    "collapsed": false
   },
   "id": "dfb7976b803207a7"
  },
  {
   "cell_type": "markdown",
   "source": [
    "x = 2 + 2 means: calculate 2 + 2, which equals 4, and store that result in a variable called x. \n",
    "It is called an **assignment statement** as it assigns values to a variable.\n",
    "\n",
    "print(x) tells Python to show you what is stored in x. In this case, it will display 4."
   ],
   "metadata": {
    "collapsed": false
   },
   "id": "30f0b3aec26b04a1"
  },
  {
   "cell_type": "code",
   "execution_count": null,
   "id": "af4a0d91",
   "metadata": {},
   "outputs": [],
   "source": [
    "x = 2 + 2\n",
    "print(x)"
   ]
  },
  {
   "cell_type": "markdown",
   "source": [
    "Guess what these will print?"
   ],
   "metadata": {
    "collapsed": false
   },
   "id": "20df89215a62e77e"
  },
  {
   "cell_type": "code",
   "outputs": [],
   "source": [
    "y = 5 * 2\n",
    "print(y)\n",
    "z = x + y\n",
    "print(z)\n",
    "w = 2**3\n",
    "print(w)\n",
    "q = w / y \n",
    "print(q)"
   ],
   "metadata": {
    "collapsed": false
   },
   "id": "f1a2a3f2",
   "execution_count": null
  },
  {
   "cell_type": "markdown",
   "source": [
    "Jupyter Notebook displays the value of the last variable in a code block, so you do not need to use print for that one. For others, you still need to."
   ],
   "metadata": {
    "collapsed": false
   },
   "id": "62baa4ed4e0989c7"
  },
  {
   "cell_type": "code",
   "outputs": [],
   "source": [
    "y\n",
    "x"
   ],
   "metadata": {
    "collapsed": false
   },
   "id": "ca9a380af3922e28",
   "execution_count": null
  },
  {
   "cell_type": "markdown",
   "source": [
    "Use type() to understand the type of a variable"
   ],
   "metadata": {
    "collapsed": false
   },
   "id": "2c708118b4bc06b9"
  },
  {
   "cell_type": "code",
   "outputs": [],
   "source": [
    "print(type(x))\n",
    "print(type(\"Hello\"))\n",
    "print(type(True))\n",
    "print(type(q))"
   ],
   "metadata": {
    "collapsed": false
   },
   "id": "1c36b06294e19f56",
   "execution_count": null
  },
  {
   "cell_type": "markdown",
   "source": [
    "### Strings\n",
    "A string is a sequence of characters.\n",
    "They are written between quotes (' ' or \" \")\n",
    "It's up to you to use either ' or \" but you need to \"escape\" with \\ if you use quotes within the string so that Python understand the string contains quotes"
   ],
   "metadata": {
    "collapsed": false
   },
   "id": "2dee22278e915153"
  },
  {
   "cell_type": "code",
   "outputs": [],
   "source": [
    "hello = \"hello\"\n",
    "whatsup = \"whats'up\" # I used \" so no need to escape '\n",
    "whatsup_with_escape = 'whats\\'up' # notice I used \\ to indicate ' is part of the string\n",
    "print(hello)\n",
    "print(whatsup)\n",
    "print(whatsup_with_escape)"
   ],
   "metadata": {
    "collapsed": false
   },
   "id": "1e3cf0aeb63a0738",
   "execution_count": null
  },
  {
   "cell_type": "markdown",
   "source": [
    "You can join strings together. e.g, hello + whats'up.\n",
    "If you want to include a non-string variable, you first need to convert it to a string (type conversions are explained at the end)\n",
    "It is better to use f-string which handles such complicated type issues\n",
    "To use f-string, start the string with an f, then put a quote, and use brackets when you are using variables."
   ],
   "metadata": {
    "collapsed": false
   },
   "id": "187f5ba20d066b6b"
  },
  {
   "cell_type": "code",
   "outputs": [],
   "source": [
    "print(hello + whatsup) # this will look awful\n",
    "print(hello + \" \" + whatsup) # add a space in between two strings so it won't look awful\n",
    "print(f'{hello} {whatsup}') # f-string\n",
    "# print('This is an integer: ' + x) # gives error\n",
    "print(f'This is an integer: {x}') # does not give an error "
   ],
   "metadata": {
    "collapsed": false
   },
   "id": "a89c7ee1173eb01d",
   "execution_count": null
  },
  {
   "cell_type": "markdown",
   "source": [
    "You can index a string using brackets, i.e., to access nth element use hello[n]"
   ],
   "metadata": {
    "collapsed": false
   },
   "id": "2dbcc175be1b2fc3"
  },
  {
   "cell_type": "code",
   "outputs": [],
   "source": [
    "print(f'The first letter of hello is {hello[0]}')"
   ],
   "metadata": {
    "collapsed": false
   },
   "id": "fb69ebe2d3de9820",
   "execution_count": null
  },
  {
   "cell_type": "markdown",
   "source": [
    "You can get a part (slice) of a string like this:"
   ],
   "metadata": {
    "collapsed": false
   },
   "id": "6da8ec522d040073"
  },
  {
   "cell_type": "code",
   "outputs": [],
   "source": [
    "print(hello[1:4])  # ell\n",
    "print(hello[:3])   # hel\n",
    "print(hello[3:])   # lo "
   ],
   "metadata": {
    "collapsed": false
   },
   "id": "b1f64e57308a010d",
   "execution_count": null
  },
  {
   "cell_type": "markdown",
   "source": [
    "Some useful String methods"
   ],
   "metadata": {
    "collapsed": false
   },
   "id": "edcea654930ccc1"
  },
  {
   "cell_type": "code",
   "outputs": [],
   "source": [
    "print(hello.upper())   # HELLO\n",
    "print(hello.capitalize())  # Hello\n",
    "print(hello.replace(\"e\", \"a\"))  # hallo\n",
    "print(\"world\" in \"hello world\")  # True"
   ],
   "metadata": {
    "collapsed": false
   },
   "id": "8281cc416483a0fc",
   "execution_count": null
  },
  {
   "cell_type": "markdown",
   "id": "9fb7ba18",
   "metadata": {},
   "source": [
    "### Functions\n",
    "A function is a reusable block of code that takes inputs, does something, and then returns an output. \n",
    "Use it to encapsulate complex code, or when you are going to run the same code over and over again.\n",
    "\n"
   ]
  },
  {
   "cell_type": "code",
   "execution_count": null,
   "id": "cbe06ed5",
   "metadata": {},
   "outputs": [],
   "source": [
    "# Function that does something\n",
    "def some_more_complicated_function(x, y):\n",
    "    x = x * 2\n",
    "    y = y / 2\n",
    "    return x + y"
   ]
  },
  {
   "cell_type": "markdown",
   "source": [
    "__def__ starts the definition of a function\n",
    "__some_more_complicated_function(x, y)__ is the name of the function, and it takes two inputs, x and y\n",
    "Inside the function, x is doubled and y is divided by two, then the new x and y are added together\n",
    "__return__ sends the final result back to whoever called the function (which is named output)\n",
    "\n",
    "Note: it is a good practice to put comments and indicate what the inputs and outputs are"
   ],
   "metadata": {
    "collapsed": false
   },
   "id": "aee8710a39a7758c"
  },
  {
   "cell_type": "code",
   "execution_count": null,
   "id": "c354b11a",
   "metadata": {},
   "outputs": [],
   "source": [
    "result = some_more_complicated_function(5, 6)\n",
    "result"
   ]
  },
  {
   "cell_type": "markdown",
   "id": "88ad22db",
   "metadata": {},
   "source": [
    "### Flow control\n",
    "Flow control lets your program **make choices** or **repeat actions**."
   ]
  },
  {
   "cell_type": "markdown",
   "source": [
    "#### If Statement"
   ],
   "metadata": {
    "collapsed": false
   },
   "id": "305d41da9c35c5c5"
  },
  {
   "cell_type": "code",
   "execution_count": null,
   "id": "8adfff64",
   "metadata": {},
   "outputs": [],
   "source": [
    "def check_if_greater_than_5 (x):\n",
    "    if x > 5:\n",
    "        print(\"Greater\")\n",
    "    else:\n",
    "        print(\"Smaller\")"
   ]
  },
  {
   "cell_type": "markdown",
   "source": [
    "__if__ checks whether a condition is true.\n",
    "If x > 5 is true, the function prints \"Greater\"\n",
    "Otherwise (__else__), it prints \"Smaller\""
   ],
   "metadata": {
    "collapsed": false
   },
   "id": "c16e129acd3e251d"
  },
  {
   "cell_type": "code",
   "execution_count": null,
   "id": "a2b0a55f",
   "metadata": {},
   "outputs": [],
   "source": [
    "check_if_greater_than_5(1)"
   ]
  },
  {
   "cell_type": "markdown",
   "source": [
    "#### While loops\n",
    "\n",
    "__while__ keeps repeating the code as long as the condition is true.\n",
    "Here, it prints x, then adds 1 to x, and continues while x < 5."
   ],
   "metadata": {
    "collapsed": false
   },
   "id": "588ed5d93d43bc20"
  },
  {
   "cell_type": "code",
   "execution_count": null,
   "id": "a567c63c",
   "metadata": {},
   "outputs": [],
   "source": [
    "x = 1\n",
    "\n",
    "while x < 5:\n",
    "    print(x)\n",
    "    x = x + 1"
   ]
  },
  {
   "cell_type": "markdown",
   "source": [
    "__for__ loop repeats a known number of times.\n",
    "range(5) means: start at 0 and go up to (but not including) 5 → [0, 1, 2, 3, 4]\n",
    "inside the loop, we square x and print it."
   ],
   "metadata": {
    "collapsed": false
   },
   "id": "e91a9aba115366d1"
  },
  {
   "cell_type": "code",
   "execution_count": null,
   "id": "b27a9b7e",
   "metadata": {},
   "outputs": [],
   "source": [
    "for x in range(5):\n",
    "    print(x * x)"
   ]
  },
  {
   "cell_type": "markdown",
   "id": "777f9462",
   "metadata": {},
   "source": [
    "### Lists\n",
    "A **list** is a collection of values. You can store multiple items in one variable.\n"
   ]
  },
  {
   "cell_type": "code",
   "execution_count": null,
   "id": "f2a92493",
   "metadata": {},
   "outputs": [],
   "source": [
    "my_list = [4, 5, 6]"
   ]
  },
  {
   "cell_type": "markdown",
   "source": [
    "You can use a **for** loop to go through each one."
   ],
   "metadata": {
    "collapsed": false
   },
   "id": "d60a54426609ae84"
  },
  {
   "cell_type": "code",
   "execution_count": null,
   "id": "cfc212ca",
   "metadata": {},
   "outputs": [],
   "source": [
    "for value in my_list:\n",
    "    print(value * value)"
   ]
  },
  {
   "cell_type": "markdown",
   "source": [
    "This loop goes through each number in my_list\n",
    "It prints the square of each value"
   ],
   "metadata": {
    "collapsed": false
   },
   "id": "82ea2e856e3349d9"
  },
  {
   "cell_type": "markdown",
   "source": [
    "You can also loop through strings as if they are lists"
   ],
   "metadata": {
    "collapsed": false
   },
   "id": "59aa53cbc0e54844"
  },
  {
   "cell_type": "code",
   "outputs": [],
   "source": [
    "for letter in \"hi\":\n",
    "    print(letter)"
   ],
   "metadata": {
    "collapsed": false
   },
   "id": "f7844d4241cd01f1",
   "execution_count": null
  },
  {
   "cell_type": "markdown",
   "source": [
    "Use help() to learn what a function does."
   ],
   "metadata": {
    "collapsed": false
   },
   "id": "c635c78ec72c999d"
  },
  {
   "cell_type": "code",
   "execution_count": null,
   "id": "5058c1a8",
   "metadata": {},
   "outputs": [],
   "source": [
    "# Get help about a function\n",
    "help(print)"
   ]
  },
  {
   "cell_type": "code",
   "execution_count": null,
   "id": "7424bffe",
   "metadata": {},
   "outputs": [],
   "source": [
    "# Write Python comments by starting the line with a '#' character\n",
    "\n",
    "# the following code sums a list\n",
    "def sum_list(l):\n",
    "    s = 0\n",
    "    for value in l:\n",
    "        s = s + value\n",
    "        \n",
    "    return s"
   ]
  },
  {
   "cell_type": "code",
   "execution_count": null,
   "id": "37197ded",
   "metadata": {},
   "outputs": [],
   "source": [
    "sum_list([5, 6, 7])"
   ]
  },
  {
   "cell_type": "markdown",
   "source": [],
   "metadata": {
    "collapsed": false
   },
   "id": "b7e0b5411ad6632b"
  },
  {
   "cell_type": "markdown",
   "source": [
    "### Dictionaries (`dict`)\n",
    "\n",
    "A **dictionary** stores values using **key-value pairs** — like a phonebook.\n",
    "Access the values by using their keys in a bracket."
   ],
   "metadata": {
    "collapsed": false
   },
   "id": "58eaea2007be342c"
  },
  {
   "cell_type": "code",
   "outputs": [],
   "source": [
    "person = {\"name\": \"Alice\", \"age\": 30}\n",
    "print(person[\"name\"])  # Access name o\n",
    "print(person[\"age\"])  # Output: 30"
   ],
   "metadata": {
    "collapsed": false
   },
   "id": "f0e30358edc31f4",
   "execution_count": null
  },
  {
   "cell_type": "markdown",
   "source": [
    "### Tuples (tuple)\n",
    "A tuple is like a list, but it cannot be changed (it's immutable).\n",
    "They are useful for representing fixed data (geographic coordinates, or being used as keys for dictionaries or dataframes and returning multiple values from a function. \n",
    "However, I highly doubt you will use it often. \n"
   ],
   "metadata": {
    "collapsed": false
   },
   "id": "91baf153839531f7"
  },
  {
   "cell_type": "code",
   "outputs": [],
   "source": [
    "my_tuple = (1, 2, 3)\n",
    "print(my_tuple[0]) "
   ],
   "metadata": {
    "collapsed": false
   },
   "id": "c94fa63ea8461bb4",
   "execution_count": null
  },
  {
   "cell_type": "code",
   "outputs": [],
   "source": [
    "my_tuple[0] = 99 # will cause an error"
   ],
   "metadata": {
    "collapsed": false
   },
   "id": "f151acdc98ce4d31",
   "execution_count": null
  },
  {
   "cell_type": "markdown",
   "source": [
    "### Sets (set)\n",
    "A set is an unordered collection of unique values.\n"
   ],
   "metadata": {
    "collapsed": false
   },
   "id": "f0f67c2857a14bf4"
  },
  {
   "cell_type": "code",
   "outputs": [],
   "source": [
    "my_set = {1, 2, 3, 2, 1}\n",
    "print(my_set)"
   ],
   "metadata": {
    "collapsed": false
   },
   "id": "a8cdeec509685ae2",
   "execution_count": null
  },
  {
   "cell_type": "markdown",
   "source": [
    "Sets automatically remove duplicates.\n",
    "However, do not use sets to remove duplicates in lists, because it breaks the order"
   ],
   "metadata": {
    "collapsed": false
   },
   "id": "ac50827edb1aaa7c"
  },
  {
   "cell_type": "code",
   "outputs": [],
   "source": [
    "random_list = [2,1,1,3]\n",
    "print(f'The random list is {random_list}')\n",
    "random_list_deduplicated = list(set(random_list)) # this converts the list to a set and then converts it back to a list\n",
    "print(f'The random list became {random_list_deduplicated}')"
   ],
   "metadata": {
    "collapsed": false
   },
   "id": "5b063463f6eb5258",
   "execution_count": null
  },
  {
   "cell_type": "markdown",
   "source": [
    "### Type Conversion\n",
    "Speaking of converting lists to sets and back, you can convert some types to others.\n",
    "Use the type name and parenthesis, e.g., str(1) converts the number 1 to \"1\", a string 1"
   ],
   "metadata": {
    "collapsed": false
   },
   "id": "88c920d0ff11d2a7"
  },
  {
   "cell_type": "code",
   "outputs": [],
   "source": [
    "string_number = str(123)\n",
    "birthyear_in_string = \"1995\" \n",
    "# the following will raise an error:\n",
    "# my_age = 2025 - my_birthyear_in_string # can't subtract a string from an integer\n",
    "birthyear_in_integer = int(birthyear_in_string)\n",
    "age = 2025 - birthyear_in_integer\n",
    "print(age)"
   ],
   "metadata": {
    "collapsed": false
   },
   "id": "16e2ed9b93ac5334",
   "execution_count": null
  },
  {
   "cell_type": "markdown",
   "source": [
    "Type conversions are not always recommended.\n",
    "Converting a float to an integer will truncate the decimal, so will round it down (e.g, 3.8 -> 3)\n",
    "Converting a non-zero integer/float to bool will make it True\n",
    "Converting 0 to bool will make it False\n",
    "Such conversions can lead to bugs if you're not expecting them, so better not to use them unless you know what you are doing."
   ],
   "metadata": {
    "collapsed": false
   },
   "id": "e64af7885a2e8310"
  },
  {
   "cell_type": "code",
   "outputs": [],
   "source": [
    "print(int(3.8))"
   ],
   "metadata": {
    "collapsed": false
   },
   "id": "76ceb7114be65f21",
   "execution_count": null
  },
  {
   "cell_type": "code",
   "outputs": [],
   "source": [
    "bool(-1)"
   ],
   "metadata": {
    "collapsed": false
   },
   "id": "550bb93474551845",
   "execution_count": null
  },
  {
   "cell_type": "markdown",
   "source": [
    "# Exercises\n",
    "Coding is not trivial and you will not learn everything in a single tutorial.\n",
    "Thanks to AI, it is now easy to code basic stuff. \n",
    "Still, it is a good idea to truly understand basics. \n",
    "To verify that you truly understood basics you should solve some exercise.\n",
    "\n",
    "Using the information above, try to solve the following exercises:\n",
    "\n",
    "1. The variable x and y hold some value you do not know. Write a simple (up to 3 lines of) code to swap the values (Hint: you can do that only using assignment statements)\n",
    "2. Identify the most common element in a given list. (Hint: Use a loop)\n",
    "3. Write a function that takes an integer as input and reverses it, e.g., 123 -> 321\n",
    "a) Do this using only mathematical operations\n",
    "b) Do this using string manipulation\n",
    "c) Could there be another solution?\n",
    "\n",
    "**Brain Teaser:** Print this triangular (baklava) shape:\n",
    "   \n",
    "```text\n",
    "   A\n",
    "  A A\n",
    " A   A\n",
    "A     A\n",
    " A   A\n",
    "  A A\n",
    "   A\n",
    "```  \n",
    "\n",
    "Ask the user to enter an integer n which will define the height of the top half of the baklava. \n",
    "\n",
    "So n = 1 should just print a single A:\n",
    "```text\n",
    "A\n",
    "```\n",
    "\n",
    "n = 2:\n",
    "```text\n",
    "   A\n",
    "  A A\n",
    "   A\n",
    "```\n",
    " \n",
    "n = 3\n",
    "\n",
    "```text\n",
    "   A\n",
    "  A A\n",
    " A   A\n",
    "  A A\n",
    "   A\n",
    "```"
   ],
   "metadata": {
    "collapsed": false
   },
   "id": "2b51308556bb2c8f"
  },
  {
   "cell_type": "markdown",
   "source": [
    "You can use the following code templates:"
   ],
   "metadata": {
    "collapsed": false
   },
   "id": "344f4667ecf7d227"
  },
  {
   "cell_type": "code",
   "outputs": [],
   "source": [
    "def swap_values(x, y):\n",
    "    print(f'x is {x}, y is {y}')\n",
    "    # code here \n",
    "    # code here \n",
    "    # code here \n",
    "    print(f'x became {x}, y became {y}')\n",
    "\n",
    "def identify_the_most_common_element(input_list):\n",
    "    most_common = input_list[0]\n",
    "    # code here...\n",
    "    # ...\n",
    "    print(f'Most common element is {most_common}')\n",
    "\n",
    "def reverse_integer(input_int):\n",
    "    print(f'The input is {input_int}')\n",
    "    reversed_int = input_int\n",
    "    #\n",
    "    print(f'reversed integer is {reversed_int}' )\n",
    "\n",
    "def print_baklava(n):\n",
    "    print('A')"
   ],
   "metadata": {
    "collapsed": false
   },
   "id": "523db44605ccf823",
   "execution_count": null
  },
  {
   "cell_type": "code",
   "outputs": [],
   "source": [
    "swap_values(1,2)\n",
    "identify_the_most_common_element([1,1,2])\n",
    "reverse_integer(123)\n",
    "print_baklava(4)"
   ],
   "metadata": {
    "collapsed": false
   },
   "id": "98e2c64d59393c14",
   "execution_count": null
  }
 ],
 "metadata": {
  "kernelspec": {
   "display_name": "Python 3 (ipykernel)",
   "language": "python",
   "name": "python3"
  },
  "language_info": {
   "codemirror_mode": {
    "name": "ipython",
    "version": 3
   },
   "file_extension": ".py",
   "mimetype": "text/x-python",
   "name": "python",
   "nbconvert_exporter": "python",
   "pygments_lexer": "ipython3",
   "version": "3.9.7"
  }
 },
 "nbformat": 4,
 "nbformat_minor": 5
}
